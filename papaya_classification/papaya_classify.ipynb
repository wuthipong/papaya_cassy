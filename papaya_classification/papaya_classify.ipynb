{
 "cells": [
  {
   "cell_type": "code",
   "execution_count": 1,
   "metadata": {},
   "outputs": [],
   "source": [
    "import tensorflow as tf\n",
    "from keras_preprocessing.image import ImageDataGenerator\n",
    "import numpy as np"
   ]
  },
  {
   "cell_type": "code",
   "execution_count": 2,
   "metadata": {},
   "outputs": [
    {
     "name": "stdout",
     "output_type": "stream",
     "text": [
      "Found 1774 images belonging to 3 classes.\n",
      "Found 288 images belonging to 3 classes.\n"
     ]
    }
   ],
   "source": [
    "TRAINING_DIR = \"/Users/User/Desktop/DATA/Train\"\n",
    "training_datagen = ImageDataGenerator(\n",
    "      rescale = 1./255,\n",
    "      rotation_range=90,\n",
    "      width_shift_range=0.2,\n",
    "      height_shift_range=0.2,\n",
    "      shear_range=0.2,\n",
    "      zoom_range=0.2,\n",
    "      horizontal_flip=True,\n",
    "      fill_mode='nearest')\n",
    "\n",
    "VALIDATION_DIR = \"/Users/User/Desktop/DATA/Test\"\n",
    "validation_datagen = ImageDataGenerator(rescale = 1./255)\n",
    "train_generator = training_datagen.flow_from_directory(\n",
    "\tTRAINING_DIR,\n",
    "\ttarget_size=(224,224),\n",
    "\tclass_mode='categorical',\n",
    "    batch_size=64\n",
    ")\n",
    "\n",
    "validation_generator = validation_datagen.flow_from_directory(\n",
    "\tVALIDATION_DIR,\n",
    "\ttarget_size=(224,224),\n",
    "\tclass_mode='categorical',\n",
    "    batch_size=64\n",
    ")"
   ]
  },
  {
   "cell_type": "code",
   "execution_count": 4,
   "metadata": {},
   "outputs": [
    {
     "name": "stdout",
     "output_type": "stream",
     "text": [
      "Model: \"sequential_1\"\n",
      "_________________________________________________________________\n",
      "Layer (type)                 Output Shape              Param #   \n",
      "=================================================================\n",
      "conv2d_4 (Conv2D)            (None, 222, 222, 32)      896       \n",
      "_________________________________________________________________\n",
      "max_pooling2d_4 (MaxPooling2 (None, 111, 111, 32)      0         \n",
      "_________________________________________________________________\n",
      "conv2d_5 (Conv2D)            (None, 109, 109, 64)      18496     \n",
      "_________________________________________________________________\n",
      "max_pooling2d_5 (MaxPooling2 (None, 54, 54, 64)        0         \n",
      "_________________________________________________________________\n",
      "conv2d_6 (Conv2D)            (None, 52, 52, 128)       73856     \n",
      "_________________________________________________________________\n",
      "max_pooling2d_6 (MaxPooling2 (None, 26, 26, 128)       0         \n",
      "_________________________________________________________________\n",
      "conv2d_7 (Conv2D)            (None, 24, 24, 256)       295168    \n",
      "_________________________________________________________________\n",
      "max_pooling2d_7 (MaxPooling2 (None, 12, 12, 256)       0         \n",
      "_________________________________________________________________\n",
      "flatten_1 (Flatten)          (None, 36864)             0         \n",
      "_________________________________________________________________\n",
      "dropout_1 (Dropout)          (None, 36864)             0         \n",
      "_________________________________________________________________\n",
      "dense_2 (Dense)              (None, 512)               18874880  \n",
      "_________________________________________________________________\n",
      "dense_3 (Dense)              (None, 3)                 1539      \n",
      "=================================================================\n",
      "Total params: 19,264,835\n",
      "Trainable params: 19,264,835\n",
      "Non-trainable params: 0\n",
      "_________________________________________________________________\n"
     ]
    }
   ],
   "source": [
    "model = tf.keras.models.Sequential([\n",
    "    tf.keras.layers.Conv2D(32, (3,3), activation='relu', input_shape=(224, 224, 3)),\n",
    "    tf.keras.layers.MaxPooling2D(2, 2),\n",
    "    tf.keras.layers.Conv2D(64, (3,3), activation='relu'),\n",
    "    tf.keras.layers.MaxPooling2D(2,2),\n",
    "    tf.keras.layers.Conv2D(128, (3,3), activation='relu'),\n",
    "    tf.keras.layers.MaxPooling2D(2,2),\n",
    "    tf.keras.layers.Conv2D(256, (3,3), activation='relu'),\n",
    "    tf.keras.layers.MaxPooling2D(2,2),\n",
    "    tf.keras.layers.Flatten(),\n",
    "    tf.keras.layers.Dropout(0.5),\n",
    "    tf.keras.layers.Dense(512, activation='relu'),\n",
    "    tf.keras.layers.Dense(3, activation='softmax')\n",
    "])\n",
    "\n",
    "\n",
    "model.summary()\n",
    "\n",
    "model.compile(loss = 'categorical_crossentropy', optimizer='adam', metrics=['accuracy'])"
   ]
  },
  {
   "cell_type": "code",
   "execution_count": 5,
   "metadata": {},
   "outputs": [
    {
     "name": "stdout",
     "output_type": "stream",
     "text": [
      "Epoch 1/15\n",
      "28/28 [==============================] - 82s 3s/step - loss: 1.1362 - accuracy: 0.5321\n",
      "Epoch 2/15\n",
      "28/28 [==============================] - 89s 3s/step - loss: 0.5314 - accuracy: 0.7706\n",
      "Epoch 3/15\n",
      "28/28 [==============================] - 91s 3s/step - loss: 0.4704 - accuracy: 0.7864\n",
      "Epoch 4/15\n",
      "28/28 [==============================] - 93s 3s/step - loss: 0.5103 - accuracy: 0.7903\n",
      "Epoch 5/15\n",
      "28/28 [==============================] - 87s 3s/step - loss: 0.4453 - accuracy: 0.8145\n",
      "Epoch 6/15\n",
      "28/28 [==============================] - 91s 3s/step - loss: 0.4353 - accuracy: 0.8134\n",
      "Epoch 7/15\n",
      "28/28 [==============================] - 91s 3s/step - loss: 0.4253 - accuracy: 0.8236\n",
      "Epoch 8/15\n",
      "28/28 [==============================] - 92s 3s/step - loss: 0.4151 - accuracy: 0.8320\n",
      "Epoch 9/15\n",
      "28/28 [==============================] - 92s 3s/step - loss: 0.4516 - accuracy: 0.8038\n",
      "Epoch 10/15\n",
      "28/28 [==============================] - 94s 3s/step - loss: 0.4032 - accuracy: 0.8219\n",
      "Epoch 11/15\n",
      "28/28 [==============================] - 95s 3s/step - loss: 0.3975 - accuracy: 0.8162\n",
      "Epoch 12/15\n",
      "28/28 [==============================] - 95s 3s/step - loss: 0.3880 - accuracy: 0.8422\n",
      "Epoch 13/15\n",
      "28/28 [==============================] - 99s 3s/step - loss: 0.3793 - accuracy: 0.8331\n",
      "Epoch 14/15\n",
      "28/28 [==============================] - 96s 3s/step - loss: 0.3689 - accuracy: 0.8455\n",
      "Epoch 15/15\n",
      "28/28 [==============================] - 96s 3s/step - loss: 0.3563 - accuracy: 0.8455\n"
     ]
    }
   ],
   "source": [
    "history = model.fit(train_generator, epochs=15, verbose = 1)"
   ]
  },
  {
   "cell_type": "code",
   "execution_count": 23,
   "metadata": {},
   "outputs": [
    {
     "data": {
      "image/png": "[encoded data removed]",
      "text/plain": [
       "<Figure size 432x288 with 1 Axes>"
      ]
     },
     "metadata": {
      "needs_background": "light"
     },
     "output_type": "display_data"
    },
    {
     "data": {
      "text/plain": [
       "<Figure size 432x288 with 0 Axes>"
      ]
     },
     "metadata": {},
     "output_type": "display_data"
    }
   ],
   "source": [
    "import matplotlib.pyplot as plt\n",
    "acc = history.history['accuracy']\n",
    "# val_acc = history.history['val_accuracy']\n",
    "loss = history.history['loss']\n",
    "# val_loss = history.history['val_loss']\n",
    "\n",
    "epochs = range(len(acc))\n",
    "\n",
    "plt.plot(epochs, acc, 'r', label='Training accuracy')\n",
    "# plt.plot(epochs, val_acc, 'b', label='Validation accuracy')\n",
    "plt.title('Training and validation accuracy')\n",
    "plt.legend(loc=0)\n",
    "plt.figure()\n",
    "\n",
    "\n",
    "plt.show()"
   ]
  },
  {
   "cell_type": "code",
   "execution_count": null,
   "metadata": {},
   "outputs": [],
   "source": [
    "import tensorflow_datasets as tfds\n",
    "import tensorflow as tf\n",
    "from sklearn.metrics import confusion_matrix\n",
    "\n"
   ]
  },
  {
   "cell_type": "code",
   "execution_count": 13,
   "metadata": {},
   "outputs": [],
   "source": [
    "import numpy as np\n",
    "from keras.preprocessing import image\n",
    "import os\n",
    "from PIL import Image, ImageOps\n",
    "import tensorflow.keras\n",
    "images = os.listdir(\"/Users/User/Desktop/DATA/Validation\")\n",
    "\n",
    "img_path = '/Users/User/Desktop/DATA/Valiation/Unripe/IMG_2054.JPG'\n",
    "\n",
    "def model_predict(img_path):\n",
    "    np.set_printoptions(suppress=True)\n",
    "    data = np.ndarray(shape=(1, 224, 224, 3), dtype=np.float32)\n",
    "    image = Image.open(img_path)\n",
    "    size = (224, 224)\n",
    "    image = ImageOps.fit(image, size, Image.ANTIALIAS)\n",
    "    image_array = np.asarray(image)\n",
    "    normalized_image_array = (image_array.astype(np.float32) / 127.0) - 1\n",
    "    data[0] = normalized_image_array\n",
    "    model = tensorflow.keras.models.load_model('papaya_model_tf.h5')\n",
    "    preds = \"\"\n",
    "    prediction = model.predict(data)\n",
    "    if np.argmax(prediction)>=0 and np.argmax(prediction)<1:\n",
    "        preds = f\"Medium\"\n",
    "    elif np.argmax(prediction)==1:\n",
    "        preds = f\"ripe\"\n",
    "    else :\n",
    "        preds = f\"unripe\"\n",
    "\n",
    "    return print(preds)\n",
    "\n",
    "#not use"
   ]
  },
  {
   "cell_type": "code",
   "execution_count": 20,
   "metadata": {},
   "outputs": [
    {
     "name": "stdout",
     "output_type": "stream",
     "text": [
      "/Users/User/Desktop/DATA/DATA/testing/test6.jpg\n",
      "[[0. 0. 1.]]\n"
     ]
    }
   ],
   "source": [
    "import numpy as np\n",
    "from keras.preprocessing import image\n",
    "import os\n",
    "\n",
    "images = os.listdir(\"/Users/User/Desktop/DATA/DATA/testing\")\n",
    "\n",
    "\n",
    "\n",
    "# for i in images:\n",
    "#     print()\n",
    "#     # predicting images\n",
    "path = '/Users/User/Desktop/DATA/DATA/testing/test6.jpg'\n",
    "img = image.load_img(path, target_size=(224, 224))\n",
    "x = image.img_to_array(img)\n",
    "x = np.expand_dims(x, axis=0)\n",
    "    \n",
    "images = np.vstack([x])\n",
    "classes = model.predict(images, batch_size=10)\n",
    "print(path)\n",
    "print(classes)\n",
    "#[[medium ripe unripe]]"
   ]
  },
  {
   "cell_type": "code",
   "execution_count": 21,
   "metadata": {},
   "outputs": [
    {
     "name": "stdout",
     "output_type": "stream",
     "text": [
      "/Users/User/Desktop/DATA/DATA/testing/test7.jpg\n",
      "[[0.04198787 0.         0.9580121 ]]\n"
     ]
    }
   ],
   "source": [
    "import numpy as np\n",
    "from keras.preprocessing import image\n",
    "import os\n",
    "\n",
    "images = os.listdir(\"/Users/User/Desktop/DATA/DATA/testing\")\n",
    "\n",
    "\n",
    "\n",
    "# for i in images:\n",
    "#     print()\n",
    "#     # predicting images\n",
    "path = '/Users/User/Desktop/DATA/DATA/testing/test7.jpg'\n",
    "img = image.load_img(path, target_size=(224, 224))\n",
    "x = image.img_to_array(img)\n",
    "x = np.expand_dims(x, axis=0)\n",
    "    \n",
    "images = np.vstack([x])\n",
    "classes = model.predict(images, batch_size=10)\n",
    "print(path)\n",
    "print(classes)\n",
    "#[[medium ripe unripe]]"
   ]
  },
  {
   "cell_type": "code",
   "execution_count": 22,
   "metadata": {},
   "outputs": [
    {
     "name": "stdout",
     "output_type": "stream",
     "text": [
      "/Users/User/Desktop/DATA/DATA/testing/test8.jpg\n",
      "[[0. 0. 1.]]\n"
     ]
    }
   ],
   "source": [
    "import numpy as np\n",
    "from keras.preprocessing import image\n",
    "import os\n",
    "\n",
    "images = os.listdir(\"/Users/User/Desktop/DATA/DATA/testing\")\n",
    "\n",
    "\n",
    "\n",
    "# for i in images:\n",
    "#     print()\n",
    "#     # predicting images\n",
    "path = '/Users/User/Desktop/DATA/DATA/testing/test8.jpg'\n",
    "img = image.load_img(path, target_size=(224, 224))\n",
    "x = image.img_to_array(img)\n",
    "x = np.expand_dims(x, axis=0)\n",
    "    \n",
    "images = np.vstack([x])\n",
    "classes = model.predict(images, batch_size=10)\n",
    "print(path)\n",
    "print(classes)\n",
    "#[[medium ripe unripe]]"
   ]
  },
  {
   "cell_type": "code",
   "execution_count": 6,
   "metadata": {},
   "outputs": [],
   "source": [
    "model.save('papaya_model_tf.h5')"
   ]
  }
 ],
 "metadata": {
  "interpreter": {
   "hash": "0600588c3b5f4418cbe7b5ebc6825b479f3bc010269d8b60d75058cdd010adfe"
  },
  "kernelspec": {
   "display_name": "Python 3.7.0 64-bit",
   "name": "python3"
  },
  "language_info": {
   "codemirror_mode": {
    "name": "ipython",
    "version": 3
   },
   "file_extension": ".py",
   "mimetype": "text/x-python",
   "name": "python",
   "nbconvert_exporter": "python",
   "pygments_lexer": "ipython3",
   "version": "3.7.0"
  },
  "orig_nbformat": 4
 },
 "nbformat": 4,
 "nbformat_minor": 2
}
